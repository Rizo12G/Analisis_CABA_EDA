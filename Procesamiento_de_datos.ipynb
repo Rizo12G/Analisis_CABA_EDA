{
 "cells": [
  {
   "cell_type": "markdown",
   "metadata": {},
   "source": [
    "En este archivo relaizaremos lo que es la limpieza de datos y el analisis del dataset proporcionado para que podamos realizar un analiss exploratorio mas completo. lo que realizaremos en este archivo es:\n",
    " * normalizar ecrituras\n",
    " * conteo de datos nulos\n",
    " * verificar tipo de datos\n",
    " * verificra duplicados "
   ]
  },
  {
   "cell_type": "markdown",
   "metadata": {},
   "source": [
    "# importamos librerias"
   ]
  },
  {
   "cell_type": "code",
   "execution_count": 150,
   "metadata": {},
   "outputs": [],
   "source": [
    "import pandas as pd\n",
    "import numpy as np\n",
    "from datetime import datetime"
   ]
  },
  {
   "cell_type": "markdown",
   "metadata": {},
   "source": [
    "# lectura de dataset"
   ]
  },
  {
   "cell_type": "code",
   "execution_count": 151,
   "metadata": {},
   "outputs": [],
   "source": [
    "victimas_df = pd.read_excel('./Data_original/homicidios.xlsx', sheet_name='VICTIMAS')\n",
    "hechos_df = pd.read_excel('./Data_original/homicidios.xlsx', sheet_name='HECHOS')"
   ]
  },
  {
   "cell_type": "markdown",
   "metadata": {},
   "source": [
    "# revision general"
   ]
  },
  {
   "cell_type": "code",
   "execution_count": 152,
   "metadata": {},
   "outputs": [
    {
     "data": {
      "text/html": [
       "<div>\n",
       "<style scoped>\n",
       "    .dataframe tbody tr th:only-of-type {\n",
       "        vertical-align: middle;\n",
       "    }\n",
       "\n",
       "    .dataframe tbody tr th {\n",
       "        vertical-align: top;\n",
       "    }\n",
       "\n",
       "    .dataframe thead th {\n",
       "        text-align: right;\n",
       "    }\n",
       "</style>\n",
       "<table border=\"1\" class=\"dataframe\">\n",
       "  <thead>\n",
       "    <tr style=\"text-align: right;\">\n",
       "      <th></th>\n",
       "      <th>ID_hecho</th>\n",
       "      <th>FECHA</th>\n",
       "      <th>AAAA</th>\n",
       "      <th>MM</th>\n",
       "      <th>DD</th>\n",
       "      <th>ROL</th>\n",
       "      <th>VICTIMA</th>\n",
       "      <th>SEXO</th>\n",
       "      <th>EDAD</th>\n",
       "      <th>FECHA_FALLECIMIENTO</th>\n",
       "    </tr>\n",
       "  </thead>\n",
       "  <tbody>\n",
       "    <tr>\n",
       "      <th>0</th>\n",
       "      <td>2016-0001</td>\n",
       "      <td>2016-01-01</td>\n",
       "      <td>2016</td>\n",
       "      <td>1</td>\n",
       "      <td>1</td>\n",
       "      <td>CONDUCTOR</td>\n",
       "      <td>MOTO</td>\n",
       "      <td>MASCULINO</td>\n",
       "      <td>19</td>\n",
       "      <td>2016-01-01 00:00:00</td>\n",
       "    </tr>\n",
       "  </tbody>\n",
       "</table>\n",
       "</div>"
      ],
      "text/plain": [
       "    ID_hecho      FECHA  AAAA  MM  DD        ROL VICTIMA       SEXO EDAD  \\\n",
       "0  2016-0001 2016-01-01  2016   1   1  CONDUCTOR    MOTO  MASCULINO   19   \n",
       "\n",
       "   FECHA_FALLECIMIENTO  \n",
       "0  2016-01-01 00:00:00  "
      ]
     },
     "execution_count": 152,
     "metadata": {},
     "output_type": "execute_result"
    }
   ],
   "source": [
    "victimas_df.head(1)"
   ]
  },
  {
   "cell_type": "code",
   "execution_count": 153,
   "metadata": {},
   "outputs": [
    {
     "data": {
      "text/html": [
       "<div>\n",
       "<style scoped>\n",
       "    .dataframe tbody tr th:only-of-type {\n",
       "        vertical-align: middle;\n",
       "    }\n",
       "\n",
       "    .dataframe tbody tr th {\n",
       "        vertical-align: top;\n",
       "    }\n",
       "\n",
       "    .dataframe thead th {\n",
       "        text-align: right;\n",
       "    }\n",
       "</style>\n",
       "<table border=\"1\" class=\"dataframe\">\n",
       "  <thead>\n",
       "    <tr style=\"text-align: right;\">\n",
       "      <th></th>\n",
       "      <th>ID</th>\n",
       "      <th>N_VICTIMAS</th>\n",
       "      <th>FECHA</th>\n",
       "      <th>AAAA</th>\n",
       "      <th>MM</th>\n",
       "      <th>DD</th>\n",
       "      <th>HORA</th>\n",
       "      <th>HH</th>\n",
       "      <th>LUGAR_DEL_HECHO</th>\n",
       "      <th>TIPO_DE_CALLE</th>\n",
       "      <th>...</th>\n",
       "      <th>Altura</th>\n",
       "      <th>Cruce</th>\n",
       "      <th>Dirección Normalizada</th>\n",
       "      <th>COMUNA</th>\n",
       "      <th>XY (CABA)</th>\n",
       "      <th>pos x</th>\n",
       "      <th>pos y</th>\n",
       "      <th>PARTICIPANTES</th>\n",
       "      <th>VICTIMA</th>\n",
       "      <th>ACUSADO</th>\n",
       "    </tr>\n",
       "  </thead>\n",
       "  <tbody>\n",
       "    <tr>\n",
       "      <th>0</th>\n",
       "      <td>2016-0001</td>\n",
       "      <td>1</td>\n",
       "      <td>2016-01-01</td>\n",
       "      <td>2016</td>\n",
       "      <td>1</td>\n",
       "      <td>1</td>\n",
       "      <td>04:00:00</td>\n",
       "      <td>4</td>\n",
       "      <td>AV PIEDRA BUENA Y AV FERNANDEZ DE LA CRUZ</td>\n",
       "      <td>AVENIDA</td>\n",
       "      <td>...</td>\n",
       "      <td>NaN</td>\n",
       "      <td>FERNANDEZ DE LA CRUZ, F., GRAL. AV.</td>\n",
       "      <td>PIEDRA BUENA AV. y FERNANDEZ DE LA CRUZ, F., G...</td>\n",
       "      <td>8</td>\n",
       "      <td>Point (98896.78238426 93532.43437792)</td>\n",
       "      <td>-58.47533969</td>\n",
       "      <td>-34.68757022</td>\n",
       "      <td>MOTO-AUTO</td>\n",
       "      <td>MOTO</td>\n",
       "      <td>AUTO</td>\n",
       "    </tr>\n",
       "  </tbody>\n",
       "</table>\n",
       "<p>1 rows × 21 columns</p>\n",
       "</div>"
      ],
      "text/plain": [
       "          ID  N_VICTIMAS      FECHA  AAAA  MM  DD      HORA HH  \\\n",
       "0  2016-0001           1 2016-01-01  2016   1   1  04:00:00  4   \n",
       "\n",
       "                             LUGAR_DEL_HECHO TIPO_DE_CALLE  ... Altura  \\\n",
       "0  AV PIEDRA BUENA Y AV FERNANDEZ DE LA CRUZ       AVENIDA  ...    NaN   \n",
       "\n",
       "                                 Cruce  \\\n",
       "0  FERNANDEZ DE LA CRUZ, F., GRAL. AV.   \n",
       "\n",
       "                               Dirección Normalizada COMUNA  \\\n",
       "0  PIEDRA BUENA AV. y FERNANDEZ DE LA CRUZ, F., G...      8   \n",
       "\n",
       "                               XY (CABA)         pos x         pos y  \\\n",
       "0  Point (98896.78238426 93532.43437792)  -58.47533969  -34.68757022   \n",
       "\n",
       "  PARTICIPANTES VICTIMA ACUSADO  \n",
       "0     MOTO-AUTO    MOTO    AUTO  \n",
       "\n",
       "[1 rows x 21 columns]"
      ]
     },
     "execution_count": 153,
     "metadata": {},
     "output_type": "execute_result"
    }
   ],
   "source": [
    "hechos_df.head(1)"
   ]
  },
  {
   "cell_type": "markdown",
   "metadata": {},
   "source": [
    "Normalizamos datos para su mejor compresion"
   ]
  },
  {
   "cell_type": "code",
   "execution_count": 154,
   "metadata": {},
   "outputs": [],
   "source": [
    "#HECHOS\n",
    "hechos_df.columns = hechos_df.columns.str.replace('_', ' ')  \n",
    "hechos_df.columns = [x.capitalize() for x in hechos_df.columns] #normalizamos las palabras \n",
    "hechos_df = hechos_df.rename(columns={\n",
    "    'N victimas': 'Cantidad de victimas', 'Aaaa':'Año', 'Mm':'Mes', 'Dd':'Dia','Hora':'Hora completa', 'Hh':'Hora'}) # cambiamos nombres de columnas\n",
    "\n",
    "#VICTIMA\n",
    "victimas_df.columns = victimas_df.columns.str.replace('_', ' ')  \n",
    "victimas_df.columns = [x.capitalize() for x in victimas_df.columns] #normalizamos las palabras \n",
    "victimas_df = victimas_df.rename(columns={ 'Id hecho' : 'Id',\n",
    "     'Aaaa':'Año', 'Mm':'Mes', 'Dd':'Dia', 'Hh':'Hora',}) # cambiamos nombres de columnas\n"
   ]
  },
  {
   "cell_type": "code",
   "execution_count": 237,
   "metadata": {},
   "outputs": [
    {
     "data": {
      "text/html": [
       "<div>\n",
       "<style scoped>\n",
       "    .dataframe tbody tr th:only-of-type {\n",
       "        vertical-align: middle;\n",
       "    }\n",
       "\n",
       "    .dataframe tbody tr th {\n",
       "        vertical-align: top;\n",
       "    }\n",
       "\n",
       "    .dataframe thead th {\n",
       "        text-align: right;\n",
       "    }\n",
       "</style>\n",
       "<table border=\"1\" class=\"dataframe\">\n",
       "  <thead>\n",
       "    <tr style=\"text-align: right;\">\n",
       "      <th></th>\n",
       "      <th>Id</th>\n",
       "      <th>Cantidad de victimas</th>\n",
       "      <th>Fecha</th>\n",
       "      <th>Año</th>\n",
       "      <th>Mes</th>\n",
       "      <th>Dia</th>\n",
       "      <th>Hora completa</th>\n",
       "      <th>Hora</th>\n",
       "      <th>Tipo de calle</th>\n",
       "      <th>Calle</th>\n",
       "      <th>Cruce</th>\n",
       "      <th>Dirección normalizada</th>\n",
       "      <th>Comuna</th>\n",
       "      <th>Xy (caba)</th>\n",
       "      <th>Pos x</th>\n",
       "      <th>Pos y</th>\n",
       "      <th>Participantes</th>\n",
       "      <th>Victima</th>\n",
       "      <th>Acusado</th>\n",
       "    </tr>\n",
       "  </thead>\n",
       "  <tbody>\n",
       "    <tr>\n",
       "      <th>0</th>\n",
       "      <td>2016-0001</td>\n",
       "      <td>1</td>\n",
       "      <td>2016-01-01</td>\n",
       "      <td>2016</td>\n",
       "      <td>1</td>\n",
       "      <td>1</td>\n",
       "      <td>1900-01-01 04:00:00</td>\n",
       "      <td>4</td>\n",
       "      <td>AVENIDA</td>\n",
       "      <td>PIEDRA BUENA AV.</td>\n",
       "      <td>SI</td>\n",
       "      <td>PIEDRA BUENA AV. y FERNANDEZ DE LA CRUZ, F., G...</td>\n",
       "      <td>8</td>\n",
       "      <td>Point (98896.78238426 93532.43437792)</td>\n",
       "      <td>-58.47533969</td>\n",
       "      <td>-34.68757022</td>\n",
       "      <td>MOTO-AUTO</td>\n",
       "      <td>MOTO</td>\n",
       "      <td>AUTO</td>\n",
       "    </tr>\n",
       "    <tr>\n",
       "      <th>1</th>\n",
       "      <td>2016-0002</td>\n",
       "      <td>1</td>\n",
       "      <td>2016-01-02</td>\n",
       "      <td>2016</td>\n",
       "      <td>1</td>\n",
       "      <td>2</td>\n",
       "      <td>1900-01-01 01:15:00</td>\n",
       "      <td>1</td>\n",
       "      <td>GRAL PAZ</td>\n",
       "      <td>PAZ, GRAL. AV.</td>\n",
       "      <td>SI</td>\n",
       "      <td>PAZ, GRAL. AV. y DE LOS CORRALES AV.</td>\n",
       "      <td>9</td>\n",
       "      <td>Point (95832.05571093 95505.41641999)</td>\n",
       "      <td>-58.50877521</td>\n",
       "      <td>-34.66977709</td>\n",
       "      <td>AUTO-PASAJEROS</td>\n",
       "      <td>AUTO</td>\n",
       "      <td>PASAJEROS</td>\n",
       "    </tr>\n",
       "    <tr>\n",
       "      <th>2</th>\n",
       "      <td>2016-0003</td>\n",
       "      <td>1</td>\n",
       "      <td>2016-01-03</td>\n",
       "      <td>2016</td>\n",
       "      <td>1</td>\n",
       "      <td>3</td>\n",
       "      <td>1900-01-01 07:00:00</td>\n",
       "      <td>7</td>\n",
       "      <td>AVENIDA</td>\n",
       "      <td>ENTRE RIOS AV.</td>\n",
       "      <td>NO</td>\n",
       "      <td>ENTRE RIOS AV. 2034</td>\n",
       "      <td>1</td>\n",
       "      <td>Point (106684.29090040 99706.57687843)</td>\n",
       "      <td>-58.39040293</td>\n",
       "      <td>-34.63189362</td>\n",
       "      <td>MOTO-AUTO</td>\n",
       "      <td>MOTO</td>\n",
       "      <td>AUTO</td>\n",
       "    </tr>\n",
       "    <tr>\n",
       "      <th>3</th>\n",
       "      <td>2016-0004</td>\n",
       "      <td>1</td>\n",
       "      <td>2016-01-10</td>\n",
       "      <td>2016</td>\n",
       "      <td>1</td>\n",
       "      <td>10</td>\n",
       "      <td>1900-01-01 00:00:00</td>\n",
       "      <td>0</td>\n",
       "      <td>AVENIDA</td>\n",
       "      <td>LARRAZABAL AV.</td>\n",
       "      <td>SI</td>\n",
       "      <td>LARRAZABAL AV. y VILLEGAS, CONRADO, GRAL.</td>\n",
       "      <td>8</td>\n",
       "      <td>Point (99840.65224780 94269.16534422)</td>\n",
       "      <td>-58.46503904</td>\n",
       "      <td>-34.68092974</td>\n",
       "      <td>MOTO-SD</td>\n",
       "      <td>MOTO</td>\n",
       "      <td>SD</td>\n",
       "    </tr>\n",
       "    <tr>\n",
       "      <th>4</th>\n",
       "      <td>2016-0005</td>\n",
       "      <td>1</td>\n",
       "      <td>2016-01-21</td>\n",
       "      <td>2016</td>\n",
       "      <td>1</td>\n",
       "      <td>21</td>\n",
       "      <td>1900-01-01 05:20:00</td>\n",
       "      <td>5</td>\n",
       "      <td>AVENIDA</td>\n",
       "      <td>SAN JUAN AV.</td>\n",
       "      <td>SI</td>\n",
       "      <td>SAN JUAN AV. y SAENZ PEÃ‘A, LUIS, PRES.</td>\n",
       "      <td>1</td>\n",
       "      <td>Point (106980.32827929 100752.16915795)</td>\n",
       "      <td>-58.38718297</td>\n",
       "      <td>-34.62246630</td>\n",
       "      <td>MOTO-PASAJEROS</td>\n",
       "      <td>MOTO</td>\n",
       "      <td>PASAJEROS</td>\n",
       "    </tr>\n",
       "  </tbody>\n",
       "</table>\n",
       "</div>"
      ],
      "text/plain": [
       "          Id  Cantidad de victimas      Fecha   Año  Mes  Dia  \\\n",
       "0  2016-0001                     1 2016-01-01  2016    1    1   \n",
       "1  2016-0002                     1 2016-01-02  2016    1    2   \n",
       "2  2016-0003                     1 2016-01-03  2016    1    3   \n",
       "3  2016-0004                     1 2016-01-10  2016    1   10   \n",
       "4  2016-0005                     1 2016-01-21  2016    1   21   \n",
       "\n",
       "        Hora completa  Hora Tipo de calle             Calle Cruce  \\\n",
       "0 1900-01-01 04:00:00     4       AVENIDA  PIEDRA BUENA AV.    SI   \n",
       "1 1900-01-01 01:15:00     1      GRAL PAZ    PAZ, GRAL. AV.    SI   \n",
       "2 1900-01-01 07:00:00     7       AVENIDA    ENTRE RIOS AV.    NO   \n",
       "3 1900-01-01 00:00:00     0       AVENIDA    LARRAZABAL AV.    SI   \n",
       "4 1900-01-01 05:20:00     5       AVENIDA      SAN JUAN AV.    SI   \n",
       "\n",
       "                               Dirección normalizada  Comuna  \\\n",
       "0  PIEDRA BUENA AV. y FERNANDEZ DE LA CRUZ, F., G...       8   \n",
       "1               PAZ, GRAL. AV. y DE LOS CORRALES AV.       9   \n",
       "2                                ENTRE RIOS AV. 2034       1   \n",
       "3          LARRAZABAL AV. y VILLEGAS, CONRADO, GRAL.       8   \n",
       "4            SAN JUAN AV. y SAENZ PEÃ‘A, LUIS, PRES.       1   \n",
       "\n",
       "                                 Xy (caba)         Pos x         Pos y  \\\n",
       "0    Point (98896.78238426 93532.43437792)  -58.47533969  -34.68757022   \n",
       "1    Point (95832.05571093 95505.41641999)  -58.50877521  -34.66977709   \n",
       "2   Point (106684.29090040 99706.57687843)  -58.39040293  -34.63189362   \n",
       "3    Point (99840.65224780 94269.16534422)  -58.46503904  -34.68092974   \n",
       "4  Point (106980.32827929 100752.16915795)  -58.38718297  -34.62246630   \n",
       "\n",
       "    Participantes Victima    Acusado  \n",
       "0       MOTO-AUTO    MOTO       AUTO  \n",
       "1  AUTO-PASAJEROS    AUTO  PASAJEROS  \n",
       "2       MOTO-AUTO    MOTO       AUTO  \n",
       "3         MOTO-SD    MOTO         SD  \n",
       "4  MOTO-PASAJEROS    MOTO  PASAJEROS  "
      ]
     },
     "execution_count": 237,
     "metadata": {},
     "output_type": "execute_result"
    }
   ],
   "source": [
    "hechos_df.head()"
   ]
  },
  {
   "cell_type": "code",
   "execution_count": 156,
   "metadata": {},
   "outputs": [
    {
     "data": {
      "text/html": [
       "<div>\n",
       "<style scoped>\n",
       "    .dataframe tbody tr th:only-of-type {\n",
       "        vertical-align: middle;\n",
       "    }\n",
       "\n",
       "    .dataframe tbody tr th {\n",
       "        vertical-align: top;\n",
       "    }\n",
       "\n",
       "    .dataframe thead th {\n",
       "        text-align: right;\n",
       "    }\n",
       "</style>\n",
       "<table border=\"1\" class=\"dataframe\">\n",
       "  <thead>\n",
       "    <tr style=\"text-align: right;\">\n",
       "      <th></th>\n",
       "      <th>Id</th>\n",
       "      <th>Fecha</th>\n",
       "      <th>Año</th>\n",
       "      <th>Mes</th>\n",
       "      <th>Dia</th>\n",
       "      <th>Rol</th>\n",
       "      <th>Victima</th>\n",
       "      <th>Sexo</th>\n",
       "      <th>Edad</th>\n",
       "      <th>Fecha fallecimiento</th>\n",
       "    </tr>\n",
       "  </thead>\n",
       "  <tbody>\n",
       "    <tr>\n",
       "      <th>0</th>\n",
       "      <td>2016-0001</td>\n",
       "      <td>2016-01-01</td>\n",
       "      <td>2016</td>\n",
       "      <td>1</td>\n",
       "      <td>1</td>\n",
       "      <td>CONDUCTOR</td>\n",
       "      <td>MOTO</td>\n",
       "      <td>MASCULINO</td>\n",
       "      <td>19</td>\n",
       "      <td>2016-01-01 00:00:00</td>\n",
       "    </tr>\n",
       "  </tbody>\n",
       "</table>\n",
       "</div>"
      ],
      "text/plain": [
       "          Id      Fecha   Año  Mes  Dia        Rol Victima       Sexo Edad  \\\n",
       "0  2016-0001 2016-01-01  2016    1    1  CONDUCTOR    MOTO  MASCULINO   19   \n",
       "\n",
       "   Fecha fallecimiento  \n",
       "0  2016-01-01 00:00:00  "
      ]
     },
     "execution_count": 156,
     "metadata": {},
     "output_type": "execute_result"
    }
   ],
   "source": [
    "victimas_df.head(1)"
   ]
  },
  {
   "cell_type": "markdown",
   "metadata": {},
   "source": [
    "# contamos valores nulos"
   ]
  },
  {
   "cell_type": "code",
   "execution_count": 157,
   "metadata": {},
   "outputs": [
    {
     "data": {
      "text/plain": [
       "Id                         0\n",
       "Cantidad de victimas       0\n",
       "Fecha                      0\n",
       "Año                        0\n",
       "Mes                        0\n",
       "Dia                        0\n",
       "Hora completa              0\n",
       "Hora                       0\n",
       "Lugar del hecho            0\n",
       "Tipo de calle              0\n",
       "Calle                      1\n",
       "Altura                   567\n",
       "Cruce                    171\n",
       "Dirección normalizada      8\n",
       "Comuna                     0\n",
       "Xy (caba)                  0\n",
       "Pos x                      0\n",
       "Pos y                      0\n",
       "Participantes              0\n",
       "Victima                    0\n",
       "Acusado                    0\n",
       "dtype: int64"
      ]
     },
     "execution_count": 157,
     "metadata": {},
     "output_type": "execute_result"
    }
   ],
   "source": [
    "hechos_df.isnull().sum() "
   ]
  },
  {
   "cell_type": "markdown",
   "metadata": {},
   "source": [
    "__Altura__ tiene demasiados nulos por lo que no estaremos utilizandola  y la eliminaremos \n",
    "\n",
    "__Calle__ al ser un unico dato faltante lo rellenaremos con un ´desconocido´\n",
    " \n",
    "__Cruce__  cruce tiene un bajo numero de nulos respectivamente a los datos que tenemos en nuestro dataset por lo que analizando los datos vemos que el nulo pertenece al referirse si el accidente fue en una interseccion o no por lo cual rellenaremos estos datos como si o no dependiendo su infomacion lo que significa que ahora esta columna tendrá 'SI' donde había valores no nulos y 'NO' donde había valores nulos.\n",
    "\n",
    "__Dirrecion normalizada__  en esta columna solo encontramos 8 valores nulos por lo que analizaremos la informacion con la columna __lugar del hecho__ devido a que estas deverian tener la misma informacion."
   ]
  },
  {
   "cell_type": "code",
   "execution_count": 158,
   "metadata": {},
   "outputs": [],
   "source": [
    "# Altura\n",
    "hechos_df = hechos_df.drop('Altura', axis=1)\n",
    "#Calle\n",
    "hechos_df['Calle'] = hechos_df['Calle'].fillna('Desconocido')\n",
    "# Cruce\n",
    "hechos_df['Cruce'] = np.where(hechos_df['Cruce'].notnull(), 'SI', 'NO')\n",
    "# Dirrecion Normalizada\n",
    "hechos_df['Dirección normalizada'] = hechos_df['Dirección normalizada'].fillna(hechos_df['Lugar del hecho'])"
   ]
  },
  {
   "cell_type": "markdown",
   "metadata": {},
   "source": [
    "debido a que dirrecion normalizada tiene una mejor redaccion de la informacion trabjaremos con esta misma y borraremos lugar del hecho"
   ]
  },
  {
   "cell_type": "code",
   "execution_count": 159,
   "metadata": {},
   "outputs": [],
   "source": [
    "hechos_df = hechos_df.drop(columns=['Lugar del hecho'])"
   ]
  },
  {
   "cell_type": "code",
   "execution_count": 160,
   "metadata": {},
   "outputs": [
    {
     "data": {
      "text/plain": [
       "Id                       0\n",
       "Cantidad de victimas     0\n",
       "Fecha                    0\n",
       "Año                      0\n",
       "Mes                      0\n",
       "Dia                      0\n",
       "Hora completa            0\n",
       "Hora                     0\n",
       "Tipo de calle            0\n",
       "Calle                    0\n",
       "Cruce                    0\n",
       "Dirección normalizada    0\n",
       "Comuna                   0\n",
       "Xy (caba)                0\n",
       "Pos x                    0\n",
       "Pos y                    0\n",
       "Participantes            0\n",
       "Victima                  0\n",
       "Acusado                  0\n",
       "dtype: int64"
      ]
     },
     "execution_count": 160,
     "metadata": {},
     "output_type": "execute_result"
    }
   ],
   "source": [
    "hechos_df.isnull().sum() "
   ]
  },
  {
   "cell_type": "markdown",
   "metadata": {},
   "source": [
    "# duplicados en HECHOS Y VICTIMAS"
   ]
  },
  {
   "cell_type": "code",
   "execution_count": 207,
   "metadata": {},
   "outputs": [
    {
     "name": "stdout",
     "output_type": "stream",
     "text": [
      "No hay duplicados en el DataFrame. HECHOS\n",
      "No hay duplicados en el DataFrame. VICTIMAS\n",
      "No hay duplicados en la columna 'Id'\n",
      "Número total de duplicados (incluyendo la primera aparición): 41\n"
     ]
    }
   ],
   "source": [
    "# Verificar si hay filas duplicadas en todo el DataFrame\n",
    "duplicados_df = hechos_df.duplicated()\n",
    "\n",
    "# Mostrar los duplicados si existen\n",
    "if duplicados_df.any():\n",
    "    print(\"Hay duplicados en el DataFrame. Las filas duplicadas son:\")\n",
    "    print(hechos_df[duplicados_df])\n",
    "else:\n",
    "    print(\"No hay duplicados en el DataFrame. HECHOS\")\n",
    "\n",
    "\n",
    "duplicados_df = victimas_df.duplicated()\n",
    "\n",
    "# Mostrar los duplicados si existen\n",
    "if duplicados_df.any():\n",
    "    print(\"Hay duplicados en el DataFrame. Las filas duplicadas son:\")\n",
    "    print(victimas_df[duplicados_df])\n",
    "else:\n",
    "    print(\"No hay duplicados en el DataFrame. VICTIMAS\")\n",
    "\n",
    "\n",
    "# Verificar si hay duplicados en la columna 'Id'\n",
    "duplicados_id = hechos_df['Id'].duplicated()\n",
    "# Mostrar los duplicados si existen\n",
    "if duplicados_id.any():\n",
    "    print(\"Hay duplicados en la columna 'Id'. Los valores duplicados son:\")\n",
    "    print(hechos_df[hechos_df['Id'].duplicated(keep=False)])\n",
    "else:\n",
    "    print(\"No hay duplicados en la columna 'Id'\")\n",
    "\n",
    "num_duplicados = victimas_df['Id'].duplicated(keep=False).sum()\n",
    "print(f\"Número total de duplicados (incluyendo la primera aparición): {num_duplicados}\")\n"
   ]
  },
  {
   "cell_type": "markdown",
   "metadata": {},
   "source": [
    "# verificar tipo de datos"
   ]
  },
  {
   "cell_type": "code",
   "execution_count": 162,
   "metadata": {},
   "outputs": [
    {
     "name": "stdout",
     "output_type": "stream",
     "text": [
      "<class 'pandas.core.frame.DataFrame'>\n",
      "RangeIndex: 696 entries, 0 to 695\n",
      "Data columns (total 19 columns):\n",
      " #   Column                 Non-Null Count  Dtype         \n",
      "---  ------                 --------------  -----         \n",
      " 0   Id                     696 non-null    object        \n",
      " 1   Cantidad de victimas   696 non-null    int64         \n",
      " 2   Fecha                  696 non-null    datetime64[ns]\n",
      " 3   Año                    696 non-null    int64         \n",
      " 4   Mes                    696 non-null    int64         \n",
      " 5   Dia                    696 non-null    int64         \n",
      " 6   Hora completa          696 non-null    object        \n",
      " 7   Hora                   696 non-null    object        \n",
      " 8   Tipo de calle          696 non-null    object        \n",
      " 9   Calle                  696 non-null    object        \n",
      " 10  Cruce                  696 non-null    object        \n",
      " 11  Dirección normalizada  696 non-null    object        \n",
      " 12  Comuna                 696 non-null    int64         \n",
      " 13  Xy (caba)              696 non-null    object        \n",
      " 14  Pos x                  696 non-null    object        \n",
      " 15  Pos y                  696 non-null    object        \n",
      " 16  Participantes          696 non-null    object        \n",
      " 17  Victima                696 non-null    object        \n",
      " 18  Acusado                696 non-null    object        \n",
      "dtypes: datetime64[ns](1), int64(5), object(13)\n",
      "memory usage: 103.4+ KB\n"
     ]
    }
   ],
   "source": [
    "hechos_df.info()"
   ]
  },
  {
   "cell_type": "markdown",
   "metadata": {},
   "source": [
    "__HECHOS__"
   ]
  },
  {
   "cell_type": "markdown",
   "metadata": {},
   "source": [
    "\n",
    "* Hora completa:  ajustar y modificar a datetime   <br>\n",
    "* Hora pasar a un entero\n",
    "*  para una mejor obtimizacion de vamos a convertir participantes, vitima, acusado y comuna a variables categoricas"
   ]
  },
  {
   "cell_type": "code",
   "execution_count": 165,
   "metadata": {},
   "outputs": [],
   "source": [
    "def convertir_a_hora_estandarizada(x):\n",
    "    if isinstance(x, str):\n",
    "        try:\n",
    "            # Convertimos cadenas en formato HH:MM:SS a objetos de tiempo\n",
    "            return datetime.strptime(x, \"%H:%M:%S\").time()\n",
    "        except ValueError:\n",
    "            # Si no es un formato válido de tiempo, devolvemos None\n",
    "            return None\n",
    "    elif isinstance(x, datetime):\n",
    "        # Si es un objeto datetime, extraemos la hora\n",
    "        return x.time()\n",
    "    elif pd.isnull(x):\n",
    "        # Si es nulo, lo dejamos como None (puedes reemplazar con un valor por defecto si prefieres)\n",
    "        return None\n",
    "    return x\n",
    "\n",
    "# Aplicamos la función a la columna que contiene los tiempos\n",
    "hechos_df['Hora completa'] = hechos_df['Hora completa'].apply(convertir_a_hora_estandarizada)\n"
   ]
  },
  {
   "cell_type": "code",
   "execution_count": 166,
   "metadata": {},
   "outputs": [
    {
     "data": {
      "text/plain": [
       "Hora completa\n",
       "<class 'datetime.time'>    695\n",
       "<class 'NoneType'>           1\n",
       "Name: count, dtype: int64"
      ]
     },
     "execution_count": 166,
     "metadata": {},
     "output_type": "execute_result"
    }
   ],
   "source": [
    "hechos_df['Hora completa'].apply(type).value_counts() \n",
    "#verificamos el tipo de dato dentro de la columna y cuales son los que no se modificaron"
   ]
  },
  {
   "cell_type": "code",
   "execution_count": 167,
   "metadata": {},
   "outputs": [
    {
     "data": {
      "text/html": [
       "<div>\n",
       "<style scoped>\n",
       "    .dataframe tbody tr th:only-of-type {\n",
       "        vertical-align: middle;\n",
       "    }\n",
       "\n",
       "    .dataframe tbody tr th {\n",
       "        vertical-align: top;\n",
       "    }\n",
       "\n",
       "    .dataframe thead th {\n",
       "        text-align: right;\n",
       "    }\n",
       "</style>\n",
       "<table border=\"1\" class=\"dataframe\">\n",
       "  <thead>\n",
       "    <tr style=\"text-align: right;\">\n",
       "      <th></th>\n",
       "      <th>Id</th>\n",
       "      <th>Cantidad de victimas</th>\n",
       "      <th>Fecha</th>\n",
       "      <th>Año</th>\n",
       "      <th>Mes</th>\n",
       "      <th>Dia</th>\n",
       "      <th>Hora completa</th>\n",
       "      <th>Hora</th>\n",
       "      <th>Tipo de calle</th>\n",
       "      <th>Calle</th>\n",
       "      <th>Cruce</th>\n",
       "      <th>Dirección normalizada</th>\n",
       "      <th>Comuna</th>\n",
       "      <th>Xy (caba)</th>\n",
       "      <th>Pos x</th>\n",
       "      <th>Pos y</th>\n",
       "      <th>Participantes</th>\n",
       "      <th>Victima</th>\n",
       "      <th>Acusado</th>\n",
       "    </tr>\n",
       "  </thead>\n",
       "  <tbody>\n",
       "    <tr>\n",
       "      <th>518</th>\n",
       "      <td>2019-0103</td>\n",
       "      <td>1</td>\n",
       "      <td>2019-12-18</td>\n",
       "      <td>2019</td>\n",
       "      <td>12</td>\n",
       "      <td>18</td>\n",
       "      <td>None</td>\n",
       "      <td>SD</td>\n",
       "      <td>GRAL PAZ</td>\n",
       "      <td>PAZ, GRAL. AV.</td>\n",
       "      <td>SI</td>\n",
       "      <td>PAZ, GRAL. AV. y GRIVEO</td>\n",
       "      <td>11</td>\n",
       "      <td>Point (94643.11254058 103831.57115061)</td>\n",
       "      <td>-58.52169422</td>\n",
       "      <td>-34.59471640</td>\n",
       "      <td>MOTO-MOTO</td>\n",
       "      <td>MOTO</td>\n",
       "      <td>MOTO</td>\n",
       "    </tr>\n",
       "  </tbody>\n",
       "</table>\n",
       "</div>"
      ],
      "text/plain": [
       "            Id  Cantidad de victimas      Fecha   Año  Mes  Dia Hora completa  \\\n",
       "518  2019-0103                     1 2019-12-18  2019   12   18          None   \n",
       "\n",
       "    Hora Tipo de calle           Calle Cruce    Dirección normalizada  Comuna  \\\n",
       "518   SD      GRAL PAZ  PAZ, GRAL. AV.    SI  PAZ, GRAL. AV. y GRIVEO      11   \n",
       "\n",
       "                                  Xy (caba)         Pos x         Pos y  \\\n",
       "518  Point (94643.11254058 103831.57115061)  -58.52169422  -34.59471640   \n",
       "\n",
       "    Participantes Victima Acusado  \n",
       "518     MOTO-MOTO    MOTO    MOTO  "
      ]
     },
     "execution_count": 167,
     "metadata": {},
     "output_type": "execute_result"
    }
   ],
   "source": [
    "hechos_df[hechos_df['Hora completa'].isna()] # buscamos cual es el que no se convirtio"
   ]
  },
  {
   "cell_type": "markdown",
   "metadata": {},
   "source": [
    "observamos que este id no tiene una fecha establecida por lo podriamos remplazar este valor calculando la moda de esta columna"
   ]
  },
  {
   "cell_type": "code",
   "execution_count": 168,
   "metadata": {},
   "outputs": [
    {
     "name": "stdout",
     "output_type": "stream",
     "text": [
      "0    09:00:00\n",
      "1    12:30:00\n",
      "2    14:00:00\n",
      "3    16:00:00\n",
      "4    21:00:00\n",
      "Name: Hora completa, dtype: object\n"
     ]
    }
   ],
   "source": [
    "moda = hechos_df['Hora completa'].mode()\n",
    "print(moda)\n",
    "# observamos que tenemos 4 modas que tienen la misma frecuencia dentro\n",
    "# de la columna por lo que podriamos utilizar alguna de estas para sustituir en nuestro dato faltante"
   ]
  },
  {
   "cell_type": "code",
   "execution_count": 169,
   "metadata": {},
   "outputs": [],
   "source": [
    "hechos_df['Hora completa'] = hechos_df['Hora completa'].fillna('12:30:00')\n",
    "hechos_df['Hora completa'] = pd.to_datetime(hechos_df['Hora completa'], format='%H:%M:%S')"
   ]
  },
  {
   "cell_type": "markdown",
   "metadata": {},
   "source": [
    "para la columna hora tenemos la misma situacion"
   ]
  },
  {
   "cell_type": "code",
   "execution_count": 172,
   "metadata": {},
   "outputs": [
    {
     "data": {
      "text/plain": [
       "Hora\n",
       "<class 'int'>    695\n",
       "<class 'str'>      1\n",
       "Name: count, dtype: int64"
      ]
     },
     "execution_count": 172,
     "metadata": {},
     "output_type": "execute_result"
    }
   ],
   "source": [
    "hechos_df['Hora'].apply(type).value_counts() "
   ]
  },
  {
   "cell_type": "code",
   "execution_count": 175,
   "metadata": {},
   "outputs": [
    {
     "name": "stdout",
     "output_type": "stream",
     "text": [
      "0    7\n",
      "Name: Hora, dtype: object\n"
     ]
    }
   ],
   "source": [
    "moda = hechos_df['Hora'].mode()\n",
    "print(moda)"
   ]
  },
  {
   "cell_type": "code",
   "execution_count": 179,
   "metadata": {},
   "outputs": [
    {
     "name": "stderr",
     "output_type": "stream",
     "text": [
      "C:\\Users\\rizo_\\AppData\\Local\\Temp\\ipykernel_19864\\4139201277.py:2: FutureWarning: Downcasting behavior in `replace` is deprecated and will be removed in a future version. To retain the old behavior, explicitly call `result.infer_objects(copy=False)`. To opt-in to the future behavior, set `pd.set_option('future.no_silent_downcasting', True)`\n",
      "  hechos_df['Hora'] = hechos_df['Hora'].replace('SD', 7)\n"
     ]
    }
   ],
   "source": [
    "# Reemplazar 'SD' por un número\n",
    "hechos_df['Hora'] = hechos_df['Hora'].replace('SD', 7)\n",
    "# Convertir a entero\n",
    "hechos_df['Hora'] = hechos_df['Hora'].astype(int)"
   ]
  },
  {
   "cell_type": "code",
   "execution_count": 182,
   "metadata": {},
   "outputs": [],
   "source": [
    "hechos_df['Participantes'] = hechos_df['Participantes'].astype('category')\n",
    "hechos_df['Victima'] = hechos_df['Victima'].astype('category')\n",
    "hechos_df['Acusado'] = hechos_df['Acusado'].astype('category')"
   ]
  },
  {
   "cell_type": "code",
   "execution_count": 184,
   "metadata": {},
   "outputs": [
    {
     "name": "stdout",
     "output_type": "stream",
     "text": [
      "<class 'pandas.core.frame.DataFrame'>\n",
      "RangeIndex: 696 entries, 0 to 695\n",
      "Data columns (total 19 columns):\n",
      " #   Column                 Non-Null Count  Dtype         \n",
      "---  ------                 --------------  -----         \n",
      " 0   Id                     696 non-null    object        \n",
      " 1   Cantidad de victimas   696 non-null    int64         \n",
      " 2   Fecha                  696 non-null    datetime64[ns]\n",
      " 3   Año                    696 non-null    int64         \n",
      " 4   Mes                    696 non-null    int64         \n",
      " 5   Dia                    696 non-null    int64         \n",
      " 6   Hora completa          696 non-null    datetime64[ns]\n",
      " 7   Hora                   696 non-null    int32         \n",
      " 8   Tipo de calle          696 non-null    object        \n",
      " 9   Calle                  696 non-null    object        \n",
      " 10  Cruce                  696 non-null    object        \n",
      " 11  Dirección normalizada  696 non-null    object        \n",
      " 12  Comuna                 696 non-null    int64         \n",
      " 13  Xy (caba)              696 non-null    object        \n",
      " 14  Pos x                  696 non-null    object        \n",
      " 15  Pos y                  696 non-null    object        \n",
      " 16  Participantes          696 non-null    category      \n",
      " 17  Victima                696 non-null    category      \n",
      " 18  Acusado                696 non-null    category      \n",
      "dtypes: category(3), datetime64[ns](2), int32(1), int64(5), object(8)\n",
      "memory usage: 88.6+ KB\n"
     ]
    }
   ],
   "source": [
    "hechos_df.info()"
   ]
  },
  {
   "cell_type": "markdown",
   "metadata": {},
   "source": [
    "----------------------------------------------------"
   ]
  },
  {
   "cell_type": "markdown",
   "metadata": {},
   "source": [
    "# VICTIMAS"
   ]
  },
  {
   "cell_type": "markdown",
   "metadata": {},
   "source": [
    "__Haciendo un analisis profundo determinamos que podemos eliminar algunas columnas dentro de victimas ya que estas mismas las tenemos en la hoja HECHOS.__"
   ]
  },
  {
   "cell_type": "code",
   "execution_count": 195,
   "metadata": {},
   "outputs": [],
   "source": [
    "victimas_df = victimas_df.drop(['Fecha', 'Año', 'Mes', 'Dia'], axis=1)"
   ]
  },
  {
   "cell_type": "code",
   "execution_count": 196,
   "metadata": {},
   "outputs": [
    {
     "name": "stdout",
     "output_type": "stream",
     "text": [
      "<class 'pandas.core.frame.DataFrame'>\n",
      "RangeIndex: 717 entries, 0 to 716\n",
      "Data columns (total 6 columns):\n",
      " #   Column               Non-Null Count  Dtype \n",
      "---  ------               --------------  ----- \n",
      " 0   Id                   717 non-null    object\n",
      " 1   Rol                  717 non-null    object\n",
      " 2   Victima              717 non-null    object\n",
      " 3   Sexo                 717 non-null    object\n",
      " 4   Edad                 717 non-null    object\n",
      " 5   Fecha fallecimiento  717 non-null    object\n",
      "dtypes: object(6)\n",
      "memory usage: 33.7+ KB\n"
     ]
    }
   ],
   "source": [
    "victimas_df.info()"
   ]
  },
  {
   "cell_type": "markdown",
   "metadata": {},
   "source": [
    "Necesitamos convetir \n",
    "* Edad a un entero\n",
    "* fecha de fallecimiento a datatime\n",
    "\n"
   ]
  },
  {
   "cell_type": "markdown",
   "metadata": {},
   "source": [
    "Previamente pudimos añalizar que la columna fecha se encuentran algunos dato tipo string por que no podremos convertir la columna a enteros sin antes tratar con esos string"
   ]
  },
  {
   "cell_type": "code",
   "execution_count": 208,
   "metadata": {},
   "outputs": [
    {
     "data": {
      "text/html": [
       "<div>\n",
       "<style scoped>\n",
       "    .dataframe tbody tr th:only-of-type {\n",
       "        vertical-align: middle;\n",
       "    }\n",
       "\n",
       "    .dataframe tbody tr th {\n",
       "        vertical-align: top;\n",
       "    }\n",
       "\n",
       "    .dataframe thead th {\n",
       "        text-align: right;\n",
       "    }\n",
       "</style>\n",
       "<table border=\"1\" class=\"dataframe\">\n",
       "  <thead>\n",
       "    <tr style=\"text-align: right;\">\n",
       "      <th></th>\n",
       "      <th>Id</th>\n",
       "      <th>Rol</th>\n",
       "      <th>Victima</th>\n",
       "      <th>Sexo</th>\n",
       "      <th>Edad</th>\n",
       "      <th>Fecha fallecimiento</th>\n",
       "    </tr>\n",
       "  </thead>\n",
       "  <tbody>\n",
       "    <tr>\n",
       "      <th>30</th>\n",
       "      <td>2016-0041</td>\n",
       "      <td>PASAJERO_ACOMPAÑANTE</td>\n",
       "      <td>MOTO</td>\n",
       "      <td>MASCULINO</td>\n",
       "      <td>SD</td>\n",
       "      <td>2016-03-30 00:00:00</td>\n",
       "    </tr>\n",
       "    <tr>\n",
       "      <th>33</th>\n",
       "      <td>2016-0045</td>\n",
       "      <td>CONDUCTOR</td>\n",
       "      <td>MOTO</td>\n",
       "      <td>MASCULINO</td>\n",
       "      <td>SD</td>\n",
       "      <td>SD</td>\n",
       "    </tr>\n",
       "    <tr>\n",
       "      <th>35</th>\n",
       "      <td>2016-0048</td>\n",
       "      <td>PEATON</td>\n",
       "      <td>PEATON</td>\n",
       "      <td>FEMENINO</td>\n",
       "      <td>SD</td>\n",
       "      <td>SD</td>\n",
       "    </tr>\n",
       "    <tr>\n",
       "      <th>36</th>\n",
       "      <td>2016-0049</td>\n",
       "      <td>SD</td>\n",
       "      <td>SD</td>\n",
       "      <td>SD</td>\n",
       "      <td>SD</td>\n",
       "      <td>SD</td>\n",
       "    </tr>\n",
       "    <tr>\n",
       "      <th>39</th>\n",
       "      <td>2016-0052</td>\n",
       "      <td>SD</td>\n",
       "      <td>MOTO</td>\n",
       "      <td>SD</td>\n",
       "      <td>SD</td>\n",
       "      <td>SD</td>\n",
       "    </tr>\n",
       "    <tr>\n",
       "      <th>55</th>\n",
       "      <td>2016-0077</td>\n",
       "      <td>PEATON</td>\n",
       "      <td>PEATON</td>\n",
       "      <td>FEMENINO</td>\n",
       "      <td>SD</td>\n",
       "      <td>SD</td>\n",
       "    </tr>\n",
       "    <tr>\n",
       "      <th>63</th>\n",
       "      <td>2016-0085</td>\n",
       "      <td>SD</td>\n",
       "      <td>MOTO</td>\n",
       "      <td>MASCULINO</td>\n",
       "      <td>SD</td>\n",
       "      <td>SD</td>\n",
       "    </tr>\n",
       "    <tr>\n",
       "      <th>72</th>\n",
       "      <td>2016-0096</td>\n",
       "      <td>CONDUCTOR</td>\n",
       "      <td>MOTO</td>\n",
       "      <td>MASCULINO</td>\n",
       "      <td>SD</td>\n",
       "      <td>SD</td>\n",
       "    </tr>\n",
       "    <tr>\n",
       "      <th>89</th>\n",
       "      <td>2016-0115</td>\n",
       "      <td>SD</td>\n",
       "      <td>SD</td>\n",
       "      <td>MASCULINO</td>\n",
       "      <td>SD</td>\n",
       "      <td>SD</td>\n",
       "    </tr>\n",
       "    <tr>\n",
       "      <th>93</th>\n",
       "      <td>2016-0119</td>\n",
       "      <td>PASAJERO_ACOMPAÑANTE</td>\n",
       "      <td>SD</td>\n",
       "      <td>FEMENINO</td>\n",
       "      <td>SD</td>\n",
       "      <td>SD</td>\n",
       "    </tr>\n",
       "    <tr>\n",
       "      <th>108</th>\n",
       "      <td>2016-0136</td>\n",
       "      <td>CONDUCTOR</td>\n",
       "      <td>MOTO</td>\n",
       "      <td>SD</td>\n",
       "      <td>SD</td>\n",
       "      <td>SD</td>\n",
       "    </tr>\n",
       "    <tr>\n",
       "      <th>119</th>\n",
       "      <td>2016-0148</td>\n",
       "      <td>CONDUCTOR</td>\n",
       "      <td>MOTO</td>\n",
       "      <td>MASCULINO</td>\n",
       "      <td>SD</td>\n",
       "      <td>SD</td>\n",
       "    </tr>\n",
       "    <tr>\n",
       "      <th>121</th>\n",
       "      <td>2016-0151</td>\n",
       "      <td>PEATON</td>\n",
       "      <td>PEATON</td>\n",
       "      <td>SD</td>\n",
       "      <td>SD</td>\n",
       "      <td>SD</td>\n",
       "    </tr>\n",
       "    <tr>\n",
       "      <th>138</th>\n",
       "      <td>2016-0171</td>\n",
       "      <td>CONDUCTOR</td>\n",
       "      <td>MOTO</td>\n",
       "      <td>SD</td>\n",
       "      <td>SD</td>\n",
       "      <td>SD</td>\n",
       "    </tr>\n",
       "    <tr>\n",
       "      <th>141</th>\n",
       "      <td>2016-0174</td>\n",
       "      <td>SD</td>\n",
       "      <td>SD</td>\n",
       "      <td>SD</td>\n",
       "      <td>SD</td>\n",
       "      <td>SD</td>\n",
       "    </tr>\n",
       "    <tr>\n",
       "      <th>142</th>\n",
       "      <td>2016-0175</td>\n",
       "      <td>PEATON</td>\n",
       "      <td>PEATON</td>\n",
       "      <td>FEMENINO</td>\n",
       "      <td>SD</td>\n",
       "      <td>SD</td>\n",
       "    </tr>\n",
       "    <tr>\n",
       "      <th>165</th>\n",
       "      <td>2017-0027</td>\n",
       "      <td>PEATON</td>\n",
       "      <td>PEATON</td>\n",
       "      <td>MASCULINO</td>\n",
       "      <td>SD</td>\n",
       "      <td>2017-02-26 00:00:00</td>\n",
       "    </tr>\n",
       "    <tr>\n",
       "      <th>176</th>\n",
       "      <td>2017-0036</td>\n",
       "      <td>PASAJERO_ACOMPAÑANTE</td>\n",
       "      <td>MOTO</td>\n",
       "      <td>FEMENINO</td>\n",
       "      <td>SD</td>\n",
       "      <td>2017-03-29 00:00:00</td>\n",
       "    </tr>\n",
       "    <tr>\n",
       "      <th>182</th>\n",
       "      <td>2017-0042</td>\n",
       "      <td>CONDUCTOR</td>\n",
       "      <td>MOTO</td>\n",
       "      <td>MASCULINO</td>\n",
       "      <td>SD</td>\n",
       "      <td>2017-04-10 00:00:00</td>\n",
       "    </tr>\n",
       "    <tr>\n",
       "      <th>225</th>\n",
       "      <td>2017-0093</td>\n",
       "      <td>PEATON</td>\n",
       "      <td>PEATON</td>\n",
       "      <td>MASCULINO</td>\n",
       "      <td>SD</td>\n",
       "      <td>2017-07-25 00:00:00</td>\n",
       "    </tr>\n",
       "    <tr>\n",
       "      <th>243</th>\n",
       "      <td>2017-0112</td>\n",
       "      <td>PASAJERO_ACOMPAÑANTE</td>\n",
       "      <td>AUTO</td>\n",
       "      <td>MASCULINO</td>\n",
       "      <td>SD</td>\n",
       "      <td>2017-09-13 00:00:00</td>\n",
       "    </tr>\n",
       "    <tr>\n",
       "      <th>275</th>\n",
       "      <td>2017-0151</td>\n",
       "      <td>PEATON</td>\n",
       "      <td>PEATON</td>\n",
       "      <td>MASCULINO</td>\n",
       "      <td>SD</td>\n",
       "      <td>2017-12-04 00:00:00</td>\n",
       "    </tr>\n",
       "    <tr>\n",
       "      <th>277</th>\n",
       "      <td>2017-0153</td>\n",
       "      <td>PASAJERO_ACOMPAÑANTE</td>\n",
       "      <td>MOTO</td>\n",
       "      <td>MASCULINO</td>\n",
       "      <td>SD</td>\n",
       "      <td>2017-12-12 00:00:00</td>\n",
       "    </tr>\n",
       "    <tr>\n",
       "      <th>299</th>\n",
       "      <td>2018-0014</td>\n",
       "      <td>PEATON</td>\n",
       "      <td>PEATON</td>\n",
       "      <td>MASCULINO</td>\n",
       "      <td>SD</td>\n",
       "      <td>2018-02-04 00:00:00</td>\n",
       "    </tr>\n",
       "    <tr>\n",
       "      <th>328</th>\n",
       "      <td>2018-0040</td>\n",
       "      <td>PEATON</td>\n",
       "      <td>PEATON</td>\n",
       "      <td>FEMENINO</td>\n",
       "      <td>SD</td>\n",
       "      <td>2018-04-27 00:00:00</td>\n",
       "    </tr>\n",
       "    <tr>\n",
       "      <th>359</th>\n",
       "      <td>2018-0071</td>\n",
       "      <td>CONDUCTOR</td>\n",
       "      <td>MOTO</td>\n",
       "      <td>MASCULINO</td>\n",
       "      <td>SD</td>\n",
       "      <td>2018-07-10 00:00:00</td>\n",
       "    </tr>\n",
       "    <tr>\n",
       "      <th>367</th>\n",
       "      <td>2018-0079</td>\n",
       "      <td>PEATON</td>\n",
       "      <td>PEATON</td>\n",
       "      <td>MASCULINO</td>\n",
       "      <td>SD</td>\n",
       "      <td>2018-07-23 00:00:00</td>\n",
       "    </tr>\n",
       "    <tr>\n",
       "      <th>371</th>\n",
       "      <td>2018-0083</td>\n",
       "      <td>CONDUCTOR</td>\n",
       "      <td>MOTO</td>\n",
       "      <td>MASCULINO</td>\n",
       "      <td>SD</td>\n",
       "      <td>2018-08-02 00:00:00</td>\n",
       "    </tr>\n",
       "    <tr>\n",
       "      <th>377</th>\n",
       "      <td>2018-0088</td>\n",
       "      <td>CONDUCTOR</td>\n",
       "      <td>MOTO</td>\n",
       "      <td>MASCULINO</td>\n",
       "      <td>SD</td>\n",
       "      <td>2018-08-17 00:00:00</td>\n",
       "    </tr>\n",
       "    <tr>\n",
       "      <th>391</th>\n",
       "      <td>2018-0101</td>\n",
       "      <td>CONDUCTOR</td>\n",
       "      <td>AUTO</td>\n",
       "      <td>MASCULINO</td>\n",
       "      <td>SD</td>\n",
       "      <td>2018-09-21 00:00:00</td>\n",
       "    </tr>\n",
       "    <tr>\n",
       "      <th>421</th>\n",
       "      <td>2018-0130</td>\n",
       "      <td>CONDUCTOR</td>\n",
       "      <td>MOTO</td>\n",
       "      <td>MASCULINO</td>\n",
       "      <td>SD</td>\n",
       "      <td>2018-12-03 00:00:00</td>\n",
       "    </tr>\n",
       "    <tr>\n",
       "      <th>444</th>\n",
       "      <td>2019-0010</td>\n",
       "      <td>PEATON</td>\n",
       "      <td>PEATON</td>\n",
       "      <td>MASCULINO</td>\n",
       "      <td>SD</td>\n",
       "      <td>2019-02-02 00:00:00</td>\n",
       "    </tr>\n",
       "    <tr>\n",
       "      <th>446</th>\n",
       "      <td>2019-0011</td>\n",
       "      <td>PEATON</td>\n",
       "      <td>PEATON</td>\n",
       "      <td>MASCULINO</td>\n",
       "      <td>SD</td>\n",
       "      <td>2019-02-10 00:00:00</td>\n",
       "    </tr>\n",
       "    <tr>\n",
       "      <th>454</th>\n",
       "      <td>2019-0019</td>\n",
       "      <td>CONDUCTOR</td>\n",
       "      <td>MOTO</td>\n",
       "      <td>MASCULINO</td>\n",
       "      <td>SD</td>\n",
       "      <td>26/03/2019</td>\n",
       "    </tr>\n",
       "    <tr>\n",
       "      <th>457</th>\n",
       "      <td>2019-0022</td>\n",
       "      <td>PASAJERO_ACOMPAÑANTE</td>\n",
       "      <td>AUTO</td>\n",
       "      <td>MASCULINO</td>\n",
       "      <td>SD</td>\n",
       "      <td>2019-03-15 00:00:00</td>\n",
       "    </tr>\n",
       "    <tr>\n",
       "      <th>461</th>\n",
       "      <td>2019-0026</td>\n",
       "      <td>PEATON</td>\n",
       "      <td>PEATON</td>\n",
       "      <td>MASCULINO</td>\n",
       "      <td>SD</td>\n",
       "      <td>2019-03-28 00:00:00</td>\n",
       "    </tr>\n",
       "    <tr>\n",
       "      <th>463</th>\n",
       "      <td>2019-0028</td>\n",
       "      <td>PEATON</td>\n",
       "      <td>PEATON</td>\n",
       "      <td>FEMENINO</td>\n",
       "      <td>SD</td>\n",
       "      <td>2019-04-06 00:00:00</td>\n",
       "    </tr>\n",
       "    <tr>\n",
       "      <th>469</th>\n",
       "      <td>2019-0034</td>\n",
       "      <td>CONDUCTOR</td>\n",
       "      <td>MOTO</td>\n",
       "      <td>MASCULINO</td>\n",
       "      <td>SD</td>\n",
       "      <td>2019-04-21 00:00:00</td>\n",
       "    </tr>\n",
       "    <tr>\n",
       "      <th>479</th>\n",
       "      <td>2019-0043</td>\n",
       "      <td>CICLISTA</td>\n",
       "      <td>BICICLETA</td>\n",
       "      <td>FEMENINO</td>\n",
       "      <td>SD</td>\n",
       "      <td>2019-05-21 00:00:00</td>\n",
       "    </tr>\n",
       "    <tr>\n",
       "      <th>498</th>\n",
       "      <td>2019-0063</td>\n",
       "      <td>PASAJERO_ACOMPAÑANTE</td>\n",
       "      <td>MOTO</td>\n",
       "      <td>MASCULINO</td>\n",
       "      <td>SD</td>\n",
       "      <td>2019-08-04 00:00:00</td>\n",
       "    </tr>\n",
       "    <tr>\n",
       "      <th>506</th>\n",
       "      <td>2019-0071</td>\n",
       "      <td>PEATON</td>\n",
       "      <td>PEATON</td>\n",
       "      <td>MASCULINO</td>\n",
       "      <td>SD</td>\n",
       "      <td>2019-08-27 00:00:00</td>\n",
       "    </tr>\n",
       "    <tr>\n",
       "      <th>529</th>\n",
       "      <td>2019-0094</td>\n",
       "      <td>PASAJERO_ACOMPAÑANTE</td>\n",
       "      <td>MOTO</td>\n",
       "      <td>FEMENINO</td>\n",
       "      <td>SD</td>\n",
       "      <td>2019-11-18 00:00:00</td>\n",
       "    </tr>\n",
       "    <tr>\n",
       "      <th>530</th>\n",
       "      <td>2019-0095</td>\n",
       "      <td>CONDUCTOR</td>\n",
       "      <td>MOTO</td>\n",
       "      <td>MASCULINO</td>\n",
       "      <td>SD</td>\n",
       "      <td>2019-11-20 00:00:00</td>\n",
       "    </tr>\n",
       "    <tr>\n",
       "      <th>548</th>\n",
       "      <td>2020-0010</td>\n",
       "      <td>CONDUCTOR</td>\n",
       "      <td>MOTO</td>\n",
       "      <td>MASCULINO</td>\n",
       "      <td>SD</td>\n",
       "      <td>2020-02-08 00:00:00</td>\n",
       "    </tr>\n",
       "    <tr>\n",
       "      <th>552</th>\n",
       "      <td>2020-0014</td>\n",
       "      <td>CONDUCTOR</td>\n",
       "      <td>MOTO</td>\n",
       "      <td>MASCULINO</td>\n",
       "      <td>SD</td>\n",
       "      <td>2020-02-27 00:00:00</td>\n",
       "    </tr>\n",
       "    <tr>\n",
       "      <th>555</th>\n",
       "      <td>2020-0017</td>\n",
       "      <td>PEATON</td>\n",
       "      <td>PEATON</td>\n",
       "      <td>MASCULINO</td>\n",
       "      <td>SD</td>\n",
       "      <td>2020-03-05 00:00:00</td>\n",
       "    </tr>\n",
       "    <tr>\n",
       "      <th>563</th>\n",
       "      <td>2020-0025</td>\n",
       "      <td>PEATON</td>\n",
       "      <td>PEATON</td>\n",
       "      <td>MASCULINO</td>\n",
       "      <td>SD</td>\n",
       "      <td>2020-05-12 00:00:00</td>\n",
       "    </tr>\n",
       "    <tr>\n",
       "      <th>572</th>\n",
       "      <td>2020-0034</td>\n",
       "      <td>PEATON</td>\n",
       "      <td>PEATON</td>\n",
       "      <td>FEMENINO</td>\n",
       "      <td>SD</td>\n",
       "      <td>2020-08-02 00:00:00</td>\n",
       "    </tr>\n",
       "    <tr>\n",
       "      <th>579</th>\n",
       "      <td>2020-0040</td>\n",
       "      <td>CONDUCTOR</td>\n",
       "      <td>AUTO</td>\n",
       "      <td>MASCULINO</td>\n",
       "      <td>SD</td>\n",
       "      <td>2020-09-12 00:00:00</td>\n",
       "    </tr>\n",
       "    <tr>\n",
       "      <th>631</th>\n",
       "      <td>2021-0012</td>\n",
       "      <td>PEATON</td>\n",
       "      <td>PEATON</td>\n",
       "      <td>MASCULINO</td>\n",
       "      <td>SD</td>\n",
       "      <td>2021-01-29 00:00:00</td>\n",
       "    </tr>\n",
       "    <tr>\n",
       "      <th>639</th>\n",
       "      <td>2021-0020</td>\n",
       "      <td>PEATON</td>\n",
       "      <td>PEATON</td>\n",
       "      <td>FEMENINO</td>\n",
       "      <td>SD</td>\n",
       "      <td>2021-02-21 00:00:00</td>\n",
       "    </tr>\n",
       "    <tr>\n",
       "      <th>647</th>\n",
       "      <td>2021-0028</td>\n",
       "      <td>PEATON</td>\n",
       "      <td>PEATON</td>\n",
       "      <td>MASCULINO</td>\n",
       "      <td>SD</td>\n",
       "      <td>2021-03-29 00:00:00</td>\n",
       "    </tr>\n",
       "    <tr>\n",
       "      <th>698</th>\n",
       "      <td>2021-0079</td>\n",
       "      <td>PEATON</td>\n",
       "      <td>PEATON</td>\n",
       "      <td>MASCULINO</td>\n",
       "      <td>SD</td>\n",
       "      <td>2021-10-25 00:00:00</td>\n",
       "    </tr>\n",
       "  </tbody>\n",
       "</table>\n",
       "</div>"
      ],
      "text/plain": [
       "            Id                   Rol    Victima       Sexo Edad  \\\n",
       "30   2016-0041  PASAJERO_ACOMPAÑANTE       MOTO  MASCULINO   SD   \n",
       "33   2016-0045             CONDUCTOR       MOTO  MASCULINO   SD   \n",
       "35   2016-0048                PEATON     PEATON   FEMENINO   SD   \n",
       "36   2016-0049                    SD         SD         SD   SD   \n",
       "39   2016-0052                    SD       MOTO         SD   SD   \n",
       "55   2016-0077                PEATON     PEATON   FEMENINO   SD   \n",
       "63   2016-0085                    SD       MOTO  MASCULINO   SD   \n",
       "72   2016-0096             CONDUCTOR       MOTO  MASCULINO   SD   \n",
       "89   2016-0115                    SD         SD  MASCULINO   SD   \n",
       "93   2016-0119  PASAJERO_ACOMPAÑANTE         SD   FEMENINO   SD   \n",
       "108  2016-0136             CONDUCTOR       MOTO         SD   SD   \n",
       "119  2016-0148             CONDUCTOR       MOTO  MASCULINO   SD   \n",
       "121  2016-0151                PEATON     PEATON         SD   SD   \n",
       "138  2016-0171             CONDUCTOR       MOTO         SD   SD   \n",
       "141  2016-0174                    SD         SD         SD   SD   \n",
       "142  2016-0175                PEATON     PEATON   FEMENINO   SD   \n",
       "165  2017-0027                PEATON     PEATON  MASCULINO   SD   \n",
       "176  2017-0036  PASAJERO_ACOMPAÑANTE       MOTO   FEMENINO   SD   \n",
       "182  2017-0042             CONDUCTOR       MOTO  MASCULINO   SD   \n",
       "225  2017-0093                PEATON     PEATON  MASCULINO   SD   \n",
       "243  2017-0112  PASAJERO_ACOMPAÑANTE       AUTO  MASCULINO   SD   \n",
       "275  2017-0151                PEATON     PEATON  MASCULINO   SD   \n",
       "277  2017-0153  PASAJERO_ACOMPAÑANTE       MOTO  MASCULINO   SD   \n",
       "299  2018-0014                PEATON     PEATON  MASCULINO   SD   \n",
       "328  2018-0040                PEATON     PEATON   FEMENINO   SD   \n",
       "359  2018-0071             CONDUCTOR       MOTO  MASCULINO   SD   \n",
       "367  2018-0079                PEATON     PEATON  MASCULINO   SD   \n",
       "371  2018-0083             CONDUCTOR       MOTO  MASCULINO   SD   \n",
       "377  2018-0088             CONDUCTOR       MOTO  MASCULINO   SD   \n",
       "391  2018-0101             CONDUCTOR       AUTO  MASCULINO   SD   \n",
       "421  2018-0130             CONDUCTOR       MOTO  MASCULINO   SD   \n",
       "444  2019-0010                PEATON     PEATON  MASCULINO   SD   \n",
       "446  2019-0011                PEATON     PEATON  MASCULINO   SD   \n",
       "454  2019-0019             CONDUCTOR       MOTO  MASCULINO   SD   \n",
       "457  2019-0022  PASAJERO_ACOMPAÑANTE       AUTO  MASCULINO   SD   \n",
       "461  2019-0026                PEATON     PEATON  MASCULINO   SD   \n",
       "463  2019-0028                PEATON     PEATON   FEMENINO   SD   \n",
       "469  2019-0034             CONDUCTOR       MOTO  MASCULINO   SD   \n",
       "479  2019-0043              CICLISTA  BICICLETA   FEMENINO   SD   \n",
       "498  2019-0063  PASAJERO_ACOMPAÑANTE       MOTO  MASCULINO   SD   \n",
       "506  2019-0071                PEATON     PEATON  MASCULINO   SD   \n",
       "529  2019-0094  PASAJERO_ACOMPAÑANTE       MOTO   FEMENINO   SD   \n",
       "530  2019-0095             CONDUCTOR       MOTO  MASCULINO   SD   \n",
       "548  2020-0010             CONDUCTOR       MOTO  MASCULINO   SD   \n",
       "552  2020-0014             CONDUCTOR       MOTO  MASCULINO   SD   \n",
       "555  2020-0017                PEATON     PEATON  MASCULINO   SD   \n",
       "563  2020-0025                PEATON     PEATON  MASCULINO   SD   \n",
       "572  2020-0034                PEATON     PEATON   FEMENINO   SD   \n",
       "579  2020-0040             CONDUCTOR       AUTO  MASCULINO   SD   \n",
       "631  2021-0012                PEATON     PEATON  MASCULINO   SD   \n",
       "639  2021-0020                PEATON     PEATON   FEMENINO   SD   \n",
       "647  2021-0028                PEATON     PEATON  MASCULINO   SD   \n",
       "698  2021-0079                PEATON     PEATON  MASCULINO   SD   \n",
       "\n",
       "     Fecha fallecimiento  \n",
       "30   2016-03-30 00:00:00  \n",
       "33                    SD  \n",
       "35                    SD  \n",
       "36                    SD  \n",
       "39                    SD  \n",
       "55                    SD  \n",
       "63                    SD  \n",
       "72                    SD  \n",
       "89                    SD  \n",
       "93                    SD  \n",
       "108                   SD  \n",
       "119                   SD  \n",
       "121                   SD  \n",
       "138                   SD  \n",
       "141                   SD  \n",
       "142                   SD  \n",
       "165  2017-02-26 00:00:00  \n",
       "176  2017-03-29 00:00:00  \n",
       "182  2017-04-10 00:00:00  \n",
       "225  2017-07-25 00:00:00  \n",
       "243  2017-09-13 00:00:00  \n",
       "275  2017-12-04 00:00:00  \n",
       "277  2017-12-12 00:00:00  \n",
       "299  2018-02-04 00:00:00  \n",
       "328  2018-04-27 00:00:00  \n",
       "359  2018-07-10 00:00:00  \n",
       "367  2018-07-23 00:00:00  \n",
       "371  2018-08-02 00:00:00  \n",
       "377  2018-08-17 00:00:00  \n",
       "391  2018-09-21 00:00:00  \n",
       "421  2018-12-03 00:00:00  \n",
       "444  2019-02-02 00:00:00  \n",
       "446  2019-02-10 00:00:00  \n",
       "454           26/03/2019  \n",
       "457  2019-03-15 00:00:00  \n",
       "461  2019-03-28 00:00:00  \n",
       "463  2019-04-06 00:00:00  \n",
       "469  2019-04-21 00:00:00  \n",
       "479  2019-05-21 00:00:00  \n",
       "498  2019-08-04 00:00:00  \n",
       "506  2019-08-27 00:00:00  \n",
       "529  2019-11-18 00:00:00  \n",
       "530  2019-11-20 00:00:00  \n",
       "548  2020-02-08 00:00:00  \n",
       "552  2020-02-27 00:00:00  \n",
       "555  2020-03-05 00:00:00  \n",
       "563  2020-05-12 00:00:00  \n",
       "572  2020-08-02 00:00:00  \n",
       "579  2020-09-12 00:00:00  \n",
       "631  2021-01-29 00:00:00  \n",
       "639  2021-02-21 00:00:00  \n",
       "647  2021-03-29 00:00:00  \n",
       "698  2021-10-25 00:00:00  "
      ]
     },
     "execution_count": 208,
     "metadata": {},
     "output_type": "execute_result"
    }
   ],
   "source": [
    "victimas_df[victimas_df['Edad'].apply(lambda x: isinstance(x, str))]"
   ]
  },
  {
   "cell_type": "markdown",
   "metadata": {},
   "source": [
    "como podemos ver tenemos valores faltantes en la columna sexo por lo que la trabajremos primero\n",
    "trabajaremos estos SD como valores nulos y como hicimos anteriormente buscaremos la media respectiva de cada una y lo rellenaremos con esos datos "
   ]
  },
  {
   "cell_type": "code",
   "execution_count": null,
   "metadata": {},
   "outputs": [],
   "source": [
    "print('Rol tiene:', len(victimas_df[victimas_df['Rol']=='SD']))\n",
    "print('Víctima tiene:', len(victimas_df[victimas_df['Victima']=='SD']))"
   ]
  },
  {
   "cell_type": "code",
   "execution_count": 279,
   "metadata": {},
   "outputs": [
    {
     "name": "stdout",
     "output_type": "stream",
     "text": [
      "El valor más frecuente de Rol es: CONDUCTOR\n",
      "El valor más frecuente de Victima es: MOTO\n"
     ]
    },
    {
     "name": "stderr",
     "output_type": "stream",
     "text": [
      "C:\\Users\\rizo_\\AppData\\Local\\Temp\\ipykernel_19864\\3975748047.py:6: FutureWarning: A value is trying to be set on a copy of a DataFrame or Series through chained assignment using an inplace method.\n",
      "The behavior will change in pandas 3.0. This inplace method will never work because the intermediate object on which we are setting values always behaves as a copy.\n",
      "\n",
      "For example, when doing 'df[col].method(value, inplace=True)', try using 'df.method({col: value}, inplace=True)' or df[col] = df[col].method(value) instead, to perform the operation inplace on the original object.\n",
      "\n",
      "\n",
      "  df[columna].fillna(frecuente, inplace=True)\n"
     ]
    }
   ],
   "source": [
    " # creamos una funcion para convertir sd a nulos y con la frecuncia rellenamos datos\n",
    "def frecuencia(df, columna):\n",
    "    df[columna]=df[columna].replace('SD', pd.NA)\n",
    "    frecuente= df[columna].mode().iloc[0]\n",
    "    print('El valor más frecuente de', columna, 'es:', frecuente)\n",
    "    df[columna].fillna(frecuente, inplace=True)\n",
    "\n",
    "frecuencia_rol = frecuencia(victimas_df, 'Rol')\n",
    "frecuencia_vic = frecuencia(victimas_df, 'Victima')"
   ]
  },
  {
   "cell_type": "code",
   "execution_count": 214,
   "metadata": {},
   "outputs": [
    {
     "name": "stdout",
     "output_type": "stream",
     "text": [
      "Cantidad de valores 'SD' en la columna 'Edad': 53\n",
      "Cantidad de valores 'SD' en la columna 'Sexo': 6\n",
      "Cantidad de valores 'SD' en la columna 'F_H': 68\n"
     ]
    }
   ],
   "source": [
    "# Contar cuántos valores \"SD\" hay en las columnas\n",
    "sd_edad = victimas_df['Edad'].str.contains('SD', na=False).sum()\n",
    "sd_sexo = victimas_df['Sexo'].str.contains('SD', na=False).sum()\n",
    "sd_fh = victimas_df['Fecha fallecimiento'].str.contains('SD', na=False).sum()\n",
    "\n",
    "print(f\"Cantidad de valores 'SD' en la columna 'Edad': {sd_edad}\")\n",
    "print(f\"Cantidad de valores 'SD' en la columna 'Sexo': {sd_sexo}\")\n",
    "print(f\"Cantidad de valores 'SD' en la columna 'F_H': {sd_fh}\")\n"
   ]
  },
  {
   "cell_type": "code",
   "execution_count": 270,
   "metadata": {},
   "outputs": [
    {
     "name": "stdout",
     "output_type": "stream",
     "text": [
      "la moda es:0    MASCULINO\n",
      "Name: Sexo, dtype: object\n"
     ]
    },
    {
     "name": "stderr",
     "output_type": "stream",
     "text": [
      "C:\\Users\\rizo_\\AppData\\Local\\Temp\\ipykernel_19864\\2622453286.py:2: FutureWarning: A value is trying to be set on a copy of a DataFrame or Series through chained assignment using an inplace method.\n",
      "The behavior will change in pandas 3.0. This inplace method will never work because the intermediate object on which we are setting values always behaves as a copy.\n",
      "\n",
      "For example, when doing 'df[col].method(value, inplace=True)', try using 'df.method({col: value}, inplace=True)' or df[col] = df[col].method(value) instead, to perform the operation inplace on the original object.\n",
      "\n",
      "\n",
      "  victimas_df['Sexo'].replace([\"SD\", None, float('nan')], pd.NA, inplace=True) # covierte a nulos\n"
     ]
    },
    {
     "data": {
      "text/plain": [
       "0      MASCULINO\n",
       "1      MASCULINO\n",
       "2      MASCULINO\n",
       "3      MASCULINO\n",
       "4      MASCULINO\n",
       "         ...    \n",
       "712     FEMENINO\n",
       "713     FEMENINO\n",
       "714     FEMENINO\n",
       "715    MASCULINO\n",
       "716    MASCULINO\n",
       "Name: Sexo, Length: 717, dtype: object"
      ]
     },
     "execution_count": 270,
     "metadata": {},
     "output_type": "execute_result"
    }
   ],
   "source": [
    "#SEXO\n",
    "victimas_df['Sexo'].replace([\"SD\", None, float('nan')], pd.NA, inplace=True) # covierte a nulos\n",
    "sexo_moda = victimas_df['Sexo'].mode() # calcula la moda\n",
    "print(f\"la moda es:{sexo_moda}\")\n",
    "# Rellena los valores nulos\n",
    "victimas_df['Sexo'].fillna(sexo_moda)\n"
   ]
  },
  {
   "cell_type": "code",
   "execution_count": 248,
   "metadata": {},
   "outputs": [
    {
     "name": "stdout",
     "output_type": "stream",
     "text": [
      "La edad promedio de Femenino es 51 y de Masculino es 40\n"
     ]
    }
   ],
   "source": [
    "#EDAD\n",
    "def ingresa_edad_media_segun_sexo(df):\n",
    "    # Reemplaza 'SD' con NA en la columna 'Edad'\n",
    "    df['Edad'] = df['Edad'].replace('SD', pd.NA)\n",
    "\n",
    "    # Se calcula el valor promedio de la edad para cada género.\n",
    "    promedio_por_genero = df.groupby('Sexo')['Edad'].mean().round()\n",
    "\n",
    "    if 'FEMENINO' in promedio_por_genero and 'MASCULINO' in promedio_por_genero:\n",
    "        print(f'La edad promedio de Femenino es {int(promedio_por_genero[\"FEMENINO\"])} y de Masculino es {int(promedio_por_genero[\"MASCULINO\"])}')\n",
    "    else:\n",
    "        print(\"No se pueden calcular promedios para uno o ambos géneros.\")\n",
    "\n",
    "    df['Edad'] = df.apply(\n",
    "        lambda row: promedio_por_genero[row['Sexo']] if pd.notna(row['Sexo']) and pd.isna(row['Edad']) else row['Edad'], axis=1 )\n",
    "    df['Edad'] = df['Edad'].astype('Int64')  \n",
    "\n",
    "    return df  \n",
    "\n",
    "victimas_df = ingresa_edad_media_segun_sexo(victimas_df)\n"
   ]
  },
  {
   "cell_type": "code",
   "execution_count": 286,
   "metadata": {},
   "outputs": [
    {
     "data": {
      "text/plain": [
       "Fecha fallecimiento\n",
       "<class 'datetime.datetime'>    648\n",
       "<class 'str'>                   69\n",
       "Name: count, dtype: int64"
      ]
     },
     "execution_count": 286,
     "metadata": {},
     "output_type": "execute_result"
    }
   ],
   "source": [
    "#fecha de fallecimento\n",
    "victimas_df['Fecha fallecimiento'].apply(type).value_counts() "
   ]
  },
  {
   "cell_type": "code",
   "execution_count": 290,
   "metadata": {},
   "outputs": [
    {
     "name": "stdout",
     "output_type": "stream",
     "text": [
      "la columna tiene:68 como SD\n"
     ]
    }
   ],
   "source": [
    "sd_f = victimas_df[victimas_df['Fecha fallecimiento'] == 'SD'].shape[0]\n",
    "print(f\"la columna tiene:{sd_f} como SD\")\n",
    "#rellenamos los datos con el mismo dia de registro\n",
    "victimas_df.loc[victimas_df['Fecha fallecimiento'] == 'SD', 'Fecha fallecimiento'] = hechos_df['Fecha']\n",
    "victimas_df['Fecha fallecimiento'] = pd.to_datetime(victimas_df['Fecha fallecimiento']) #cambiamos dato"
   ]
  },
  {
   "cell_type": "code",
   "execution_count": 299,
   "metadata": {},
   "outputs": [
    {
     "name": "stdout",
     "output_type": "stream",
     "text": [
      "<class 'pandas.core.frame.DataFrame'>\n",
      "RangeIndex: 717 entries, 0 to 716\n",
      "Data columns (total 6 columns):\n",
      " #   Column               Non-Null Count  Dtype         \n",
      "---  ------               --------------  -----         \n",
      " 0   Id                   717 non-null    object        \n",
      " 1   Rol                  717 non-null    object        \n",
      " 2   Victima              717 non-null    object        \n",
      " 3   Sexo                 717 non-null    object        \n",
      " 4   Edad                 717 non-null    Int64         \n",
      " 5   Fecha fallecimiento  717 non-null    datetime64[ns]\n",
      "dtypes: Int64(1), datetime64[ns](1), object(4)\n",
      "memory usage: 34.4+ KB\n"
     ]
    }
   ],
   "source": [
    "victimas_df.info()"
   ]
  },
  {
   "cell_type": "code",
   "execution_count": 305,
   "metadata": {},
   "outputs": [],
   "source": [
    "# Reiniciar el índice para asignar una clave única a cada registro\n",
    "id_victimas_df = victimas_df.reset_index()\n",
    "# Asignar el nombre 'Id victima' a la columna de clave única\n",
    "id_victimas_df = id_victimas_df.rename(columns={'index': 'Id víctima'})"
   ]
  },
  {
   "cell_type": "code",
   "execution_count": 306,
   "metadata": {},
   "outputs": [
    {
     "name": "stdout",
     "output_type": "stream",
     "text": [
      "<class 'pandas.core.frame.DataFrame'>\n",
      "RangeIndex: 717 entries, 0 to 716\n",
      "Data columns (total 7 columns):\n",
      " #   Column               Non-Null Count  Dtype         \n",
      "---  ------               --------------  -----         \n",
      " 0   Id víctima           717 non-null    int64         \n",
      " 1   Id                   717 non-null    object        \n",
      " 2   Rol                  717 non-null    object        \n",
      " 3   Victima              717 non-null    object        \n",
      " 4   Sexo                 717 non-null    object        \n",
      " 5   Edad                 717 non-null    Int64         \n",
      " 6   Fecha fallecimiento  717 non-null    datetime64[ns]\n",
      "dtypes: Int64(1), datetime64[ns](1), int64(1), object(4)\n",
      "memory usage: 40.0+ KB\n"
     ]
    }
   ],
   "source": [
    "id_victimas_df.info()"
   ]
  },
  {
   "cell_type": "markdown",
   "metadata": {},
   "source": [
    "# guardamos archivos a un csv"
   ]
  },
  {
   "cell_type": "code",
   "execution_count": 308,
   "metadata": {},
   "outputs": [],
   "source": [
    "hechos_df = hechos_df.to_csv('./Data_clean/homicidios_hechos.csv', index=False)\n",
    "victimas_df = victimas_df.to_csv('./Data_clean/homicidios_victimas.csv', index=False)"
   ]
  },
  {
   "cell_type": "markdown",
   "metadata": {},
   "source": [
    "-------------------------------"
   ]
  }
 ],
 "metadata": {
  "kernelspec": {
   "display_name": "Python 3",
   "language": "python",
   "name": "python3"
  },
  "language_info": {
   "codemirror_mode": {
    "name": "ipython",
    "version": 3
   },
   "file_extension": ".py",
   "mimetype": "text/x-python",
   "name": "python",
   "nbconvert_exporter": "python",
   "pygments_lexer": "ipython3",
   "version": "3.11.9"
  }
 },
 "nbformat": 4,
 "nbformat_minor": 2
}
